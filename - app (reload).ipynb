{
 "cells": [
  {
   "cell_type": "code",
   "execution_count": null,
   "id": "82692b8b",
   "metadata": {},
   "outputs": [],
   "source": [
    " def reload_local_list(self):\n",
    "        filepath = self.lm.selected_list_df.Location.iloc[0]\n",
    "        path = os.sep.join(filepath.split(os.sep)[:-1])\n",
    "        self.remove_list_from_playlist(self.lm.selected_list_df)\n",
    "\n",
    "        time0 = time.time()\n",
    "        folder_playlist_df = self.linker.build_loc_path_synched_df(path, subfolders=False)\n",
    "        time1= time.time()\n",
    "\n",
    "\n",
    "        self.infoselected_list_df = self.lm.selected_list_df\n",
    "        self.infonewlist_df = folder_playlist_df\n",
    "        \n",
    "        \n",
    "        \n",
    "        \n",
    "        \n",
    "        \n",
    "        self.append_list_to_playlists(folder_playlist_df)\n",
    "        \n",
    "              \n",
    "        self.local_list_selection_after_edit(event=\"add\")\n",
    "        \n",
    "        lista = path.split(os.sep)[-1]\n",
    "        messagebox.showinfo(title=\"Info\", message=f\"Reloaded {lista} to LOCAL in {time1 - time0:.2f}s.\")"
   ]
  },
  {
   "cell_type": "code",
   "execution_count": 1,
   "id": "6084881b",
   "metadata": {
    "ExecuteTime": {
     "end_time": "2024-01-27T17:50:44.822804Z",
     "start_time": "2024-01-27T17:50:43.118433Z"
    }
   },
   "outputs": [
    {
     "data": {
      "text/plain": [
       "(   clave1 clave2  col1  col2\n",
       " 0       1      A    10    40\n",
       " 1       2      B    20    50\n",
       " 2       3      C    30    60,\n",
       "    clave1 clave2  col1  col2\n",
       " 0       1      X   100   400\n",
       " 1       2      B   200   500\n",
       " 2       4      Z   300   600\n",
       " 3       2      B   255   444)"
      ]
     },
     "execution_count": 1,
     "metadata": {},
     "output_type": "execute_result"
    }
   ],
   "source": [
    "import pandas as pd\n",
    "import math\n",
    "\n",
    "# Ejemplo de dataframes\n",
    "data_a = {'clave1': [1, 2, 3],\n",
    "          'clave2': ['A', 'B', 'C'],\n",
    "          'col1': [10, 20, 30],\n",
    "          'col2': [40, 50, 60]}\n",
    "\n",
    "data_b = {'clave1': [1, 2, 4, 2],\n",
    "          'clave2': ['X', 'B', 'Z', 'B'],\n",
    "          'col1': [100, 200, 300, 255],\n",
    "          'col2': [400, 500, 600, 444]}\n",
    "\n",
    "df_a = pd.DataFrame(data_a)\n",
    "df_b = pd.DataFrame(data_b)\n",
    "\n",
    "\n",
    "df_a, df_b"
   ]
  },
  {
   "cell_type": "code",
   "execution_count": 2,
   "id": "16355ff0",
   "metadata": {
    "ExecuteTime": {
     "end_time": "2024-01-27T17:50:46.160743Z",
     "start_time": "2024-01-27T17:50:46.149752Z"
    }
   },
   "outputs": [
    {
     "data": {
      "text/plain": [
       "['col1', 'col2']"
      ]
     },
     "execution_count": 2,
     "metadata": {},
     "output_type": "execute_result"
    }
   ],
   "source": [
    "claves = ['clave1', 'clave2']\n",
    "cols = df_a.columns.to_list()\n",
    "for x in claves: cols.remove(x)\n",
    "cols"
   ]
  },
  {
   "cell_type": "code",
   "execution_count": 3,
   "id": "a2067df1",
   "metadata": {
    "ExecuteTime": {
     "end_time": "2024-01-27T17:50:48.049161Z",
     "start_time": "2024-01-27T17:50:48.005050Z"
    }
   },
   "outputs": [
    {
     "data": {
      "text/html": [
       "<div>\n",
       "<style scoped>\n",
       "    .dataframe tbody tr th:only-of-type {\n",
       "        vertical-align: middle;\n",
       "    }\n",
       "\n",
       "    .dataframe tbody tr th {\n",
       "        vertical-align: top;\n",
       "    }\n",
       "\n",
       "    .dataframe thead th {\n",
       "        text-align: right;\n",
       "    }\n",
       "</style>\n",
       "<table border=\"1\" class=\"dataframe\">\n",
       "  <thead>\n",
       "    <tr style=\"text-align: right;\">\n",
       "      <th></th>\n",
       "      <th>clave1</th>\n",
       "      <th>clave2</th>\n",
       "      <th>col1_x</th>\n",
       "      <th>col2_x</th>\n",
       "      <th>col1</th>\n",
       "      <th>col2</th>\n",
       "    </tr>\n",
       "  </thead>\n",
       "  <tbody>\n",
       "    <tr>\n",
       "      <th>0</th>\n",
       "      <td>1</td>\n",
       "      <td>A</td>\n",
       "      <td>10</td>\n",
       "      <td>40</td>\n",
       "      <td>NaN</td>\n",
       "      <td>NaN</td>\n",
       "    </tr>\n",
       "    <tr>\n",
       "      <th>1</th>\n",
       "      <td>2</td>\n",
       "      <td>B</td>\n",
       "      <td>20</td>\n",
       "      <td>50</td>\n",
       "      <td>200.0</td>\n",
       "      <td>500.0</td>\n",
       "    </tr>\n",
       "    <tr>\n",
       "      <th>2</th>\n",
       "      <td>2</td>\n",
       "      <td>B</td>\n",
       "      <td>20</td>\n",
       "      <td>50</td>\n",
       "      <td>255.0</td>\n",
       "      <td>444.0</td>\n",
       "    </tr>\n",
       "    <tr>\n",
       "      <th>3</th>\n",
       "      <td>3</td>\n",
       "      <td>C</td>\n",
       "      <td>30</td>\n",
       "      <td>60</td>\n",
       "      <td>NaN</td>\n",
       "      <td>NaN</td>\n",
       "    </tr>\n",
       "  </tbody>\n",
       "</table>\n",
       "</div>"
      ],
      "text/plain": [
       "   clave1 clave2  col1_x  col2_x   col1   col2\n",
       "0       1      A      10      40    NaN    NaN\n",
       "1       2      B      20      50  200.0  500.0\n",
       "2       2      B      20      50  255.0  444.0\n",
       "3       3      C      30      60    NaN    NaN"
      ]
     },
     "execution_count": 3,
     "metadata": {},
     "output_type": "execute_result"
    }
   ],
   "source": [
    "df = pd.merge(df_a, df_b, on=['clave1', 'clave2'], how='left')\n",
    "# Crear un diccionario dinámicamente\n",
    "nuevas_cols = {col + \"_y\": col for col in cols}\n",
    "# Utilizar la función rename\n",
    "df.rename(columns=nuevas_cols, inplace=True)\n",
    "df"
   ]
  },
  {
   "cell_type": "code",
   "execution_count": 4,
   "id": "922ac28a",
   "metadata": {
    "ExecuteTime": {
     "end_time": "2024-01-27T17:50:49.772313Z",
     "start_time": "2024-01-27T17:50:49.756719Z"
    }
   },
   "outputs": [],
   "source": [
    "def custom_function(row):\n",
    "    for col in cols:\n",
    "        if math.isnan(row[col]): row[col] = row[col + \"_x\"] \n",
    "    return row\n",
    "\n",
    "df = df.apply(custom_function, axis=1)"
   ]
  },
  {
   "cell_type": "code",
   "execution_count": 5,
   "id": "d0b86dae",
   "metadata": {
    "ExecuteTime": {
     "end_time": "2024-01-27T17:50:50.876226Z",
     "start_time": "2024-01-27T17:50:50.860624Z"
    }
   },
   "outputs": [],
   "source": [
    " df = df.filter(regex='^(?!.*_x$)')"
   ]
  },
  {
   "cell_type": "code",
   "execution_count": 6,
   "id": "ccc66283",
   "metadata": {
    "ExecuteTime": {
     "end_time": "2024-01-27T17:51:12.983471Z",
     "start_time": "2024-01-27T17:51:12.949820Z"
    }
   },
   "outputs": [
    {
     "data": {
      "text/html": [
       "<div>\n",
       "<style scoped>\n",
       "    .dataframe tbody tr th:only-of-type {\n",
       "        vertical-align: middle;\n",
       "    }\n",
       "\n",
       "    .dataframe tbody tr th {\n",
       "        vertical-align: top;\n",
       "    }\n",
       "\n",
       "    .dataframe thead th {\n",
       "        text-align: right;\n",
       "    }\n",
       "</style>\n",
       "<table border=\"1\" class=\"dataframe\">\n",
       "  <thead>\n",
       "    <tr style=\"text-align: right;\">\n",
       "      <th></th>\n",
       "      <th>clave1</th>\n",
       "      <th>clave2</th>\n",
       "      <th>col1</th>\n",
       "      <th>col2</th>\n",
       "    </tr>\n",
       "  </thead>\n",
       "  <tbody>\n",
       "    <tr>\n",
       "      <th>0</th>\n",
       "      <td>1</td>\n",
       "      <td>A</td>\n",
       "      <td>10.0</td>\n",
       "      <td>40.0</td>\n",
       "    </tr>\n",
       "    <tr>\n",
       "      <th>1</th>\n",
       "      <td>2</td>\n",
       "      <td>B</td>\n",
       "      <td>200.0</td>\n",
       "      <td>500.0</td>\n",
       "    </tr>\n",
       "    <tr>\n",
       "      <th>2</th>\n",
       "      <td>2</td>\n",
       "      <td>B</td>\n",
       "      <td>255.0</td>\n",
       "      <td>444.0</td>\n",
       "    </tr>\n",
       "    <tr>\n",
       "      <th>3</th>\n",
       "      <td>3</td>\n",
       "      <td>C</td>\n",
       "      <td>30.0</td>\n",
       "      <td>60.0</td>\n",
       "    </tr>\n",
       "  </tbody>\n",
       "</table>\n",
       "</div>"
      ],
      "text/plain": [
       "   clave1 clave2   col1   col2\n",
       "0       1      A   10.0   40.0\n",
       "1       2      B  200.0  500.0\n",
       "2       2      B  255.0  444.0\n",
       "3       3      C   30.0   60.0"
      ]
     },
     "execution_count": 6,
     "metadata": {},
     "output_type": "execute_result"
    }
   ],
   "source": [
    "df"
   ]
  }
 ],
 "metadata": {
  "kernelspec": {
   "display_name": "Python 3",
   "language": "python",
   "name": "python3"
  },
  "language_info": {
   "codemirror_mode": {
    "name": "ipython",
    "version": 3
   },
   "file_extension": ".py",
   "mimetype": "text/x-python",
   "name": "python",
   "nbconvert_exporter": "python",
   "pygments_lexer": "ipython3",
   "version": "3.8.8"
  },
  "toc": {
   "base_numbering": 1,
   "nav_menu": {},
   "number_sections": true,
   "sideBar": true,
   "skip_h1_title": false,
   "title_cell": "Table of Contents",
   "title_sidebar": "Contents",
   "toc_cell": false,
   "toc_position": {},
   "toc_section_display": true,
   "toc_window_display": false
  },
  "varInspector": {
   "cols": {
    "lenName": 16,
    "lenType": 16,
    "lenVar": 40
   },
   "kernels_config": {
    "python": {
     "delete_cmd_postfix": "",
     "delete_cmd_prefix": "del ",
     "library": "var_list.py",
     "varRefreshCmd": "print(var_dic_list())"
    },
    "r": {
     "delete_cmd_postfix": ") ",
     "delete_cmd_prefix": "rm(",
     "library": "var_list.r",
     "varRefreshCmd": "cat(var_dic_list()) "
    }
   },
   "types_to_exclude": [
    "module",
    "function",
    "builtin_function_or_method",
    "instance",
    "_Feature"
   ],
   "window_display": false
  }
 },
 "nbformat": 4,
 "nbformat_minor": 5
}
